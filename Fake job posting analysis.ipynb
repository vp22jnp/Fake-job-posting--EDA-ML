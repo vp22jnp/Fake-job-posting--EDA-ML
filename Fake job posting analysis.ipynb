{
 "cells": [
  {
   "cell_type": "code",
   "execution_count": 2,
   "id": "7b69181f-660b-4a3d-aba6-910ecbcff89e",
   "metadata": {},
   "outputs": [],
   "source": [
    "import pandas as pd\n",
    "import numpy as np\n",
    "import seaborn as sns\n",
    "import matplotlib.pyplot as plt"
   ]
  },
  {
   "cell_type": "code",
   "execution_count": 3,
   "id": "d2a97c0a-0c4a-4bda-a208-40522319f1e4",
   "metadata": {},
   "outputs": [],
   "source": [
    "df=pd.read_csv('Fake Postings.csv')"
   ]
  },
  {
   "cell_type": "code",
   "execution_count": 4,
   "id": "04cb0286-6225-4160-801a-5ae990905a14",
   "metadata": {},
   "outputs": [
    {
     "data": {
      "text/html": [
       "<div>\n",
       "<style scoped>\n",
       "    .dataframe tbody tr th:only-of-type {\n",
       "        vertical-align: middle;\n",
       "    }\n",
       "\n",
       "    .dataframe tbody tr th {\n",
       "        vertical-align: top;\n",
       "    }\n",
       "\n",
       "    .dataframe thead th {\n",
       "        text-align: right;\n",
       "    }\n",
       "</style>\n",
       "<table border=\"1\" class=\"dataframe\">\n",
       "  <thead>\n",
       "    <tr style=\"text-align: right;\">\n",
       "      <th></th>\n",
       "      <th>title</th>\n",
       "      <th>description</th>\n",
       "      <th>requirements</th>\n",
       "      <th>company_profile</th>\n",
       "      <th>location</th>\n",
       "      <th>salary_range</th>\n",
       "      <th>employment_type</th>\n",
       "      <th>industry</th>\n",
       "      <th>benefits</th>\n",
       "      <th>fraudulent</th>\n",
       "    </tr>\n",
       "  </thead>\n",
       "  <tbody>\n",
       "    <tr>\n",
       "      <th>0</th>\n",
       "      <td>Mental health nurse</td>\n",
       "      <td>Arm drive court sure vote. Earn $5000/week! Im...</td>\n",
       "      <td>Basic knowledge in live, no degree required. F...</td>\n",
       "      <td>Rivera and Sons - Established 2022.</td>\n",
       "      <td>West Jeffrey</td>\n",
       "      <td>$55016-$100476</td>\n",
       "      <td>Internship</td>\n",
       "      <td>IT</td>\n",
       "      <td>Free meals</td>\n",
       "      <td>1</td>\n",
       "    </tr>\n",
       "    <tr>\n",
       "      <th>1</th>\n",
       "      <td>Conference centre manager</td>\n",
       "      <td>Government whom its bed go tax tree black. Ear...</td>\n",
       "      <td>Basic knowledge in seek, no degree required. F...</td>\n",
       "      <td>Davidson, Jones and Gomez - Established 2003.</td>\n",
       "      <td>Lake Meredithberg</td>\n",
       "      <td>$53438-$93138</td>\n",
       "      <td>Part-Time</td>\n",
       "      <td>Finance</td>\n",
       "      <td>Flexible hours</td>\n",
       "      <td>1</td>\n",
       "    </tr>\n",
       "    <tr>\n",
       "      <th>2</th>\n",
       "      <td>Engineer, land</td>\n",
       "      <td>I member discuss follow way there nation. Earn...</td>\n",
       "      <td>Basic knowledge in worker, no degree required....</td>\n",
       "      <td>Allen Ltd - Established 1998.</td>\n",
       "      <td>Lake Cathybury</td>\n",
       "      <td>$45584-$105229</td>\n",
       "      <td>Part-Time</td>\n",
       "      <td>IT</td>\n",
       "      <td>Free travel</td>\n",
       "      <td>1</td>\n",
       "    </tr>\n",
       "    <tr>\n",
       "      <th>3</th>\n",
       "      <td>Forest/woodland manager</td>\n",
       "      <td>House across wait approach face. Earn $5000/we...</td>\n",
       "      <td>Basic knowledge in example, no degree required...</td>\n",
       "      <td>Forbes Ltd - Established 1990.</td>\n",
       "      <td>South Matthewstad</td>\n",
       "      <td>$66188-$139621</td>\n",
       "      <td>Full-Time</td>\n",
       "      <td>Education</td>\n",
       "      <td>Free travel</td>\n",
       "      <td>1</td>\n",
       "    </tr>\n",
       "    <tr>\n",
       "      <th>4</th>\n",
       "      <td>Production designer, theatre/television/film</td>\n",
       "      <td>Case best environmental full finally leader me...</td>\n",
       "      <td>Basic knowledge in smile, no degree required. ...</td>\n",
       "      <td>Jennings, Martin and Sanchez - Established 1975.</td>\n",
       "      <td>East Rhondafurt</td>\n",
       "      <td>$32183-$115012</td>\n",
       "      <td>Temporary</td>\n",
       "      <td>Retail</td>\n",
       "      <td>Flexible hours</td>\n",
       "      <td>1</td>\n",
       "    </tr>\n",
       "  </tbody>\n",
       "</table>\n",
       "</div>"
      ],
      "text/plain": [
       "                                          title  \\\n",
       "0                           Mental health nurse   \n",
       "1                     Conference centre manager   \n",
       "2                                Engineer, land   \n",
       "3                       Forest/woodland manager   \n",
       "4  Production designer, theatre/television/film   \n",
       "\n",
       "                                         description  \\\n",
       "0  Arm drive court sure vote. Earn $5000/week! Im...   \n",
       "1  Government whom its bed go tax tree black. Ear...   \n",
       "2  I member discuss follow way there nation. Earn...   \n",
       "3  House across wait approach face. Earn $5000/we...   \n",
       "4  Case best environmental full finally leader me...   \n",
       "\n",
       "                                        requirements  \\\n",
       "0  Basic knowledge in live, no degree required. F...   \n",
       "1  Basic knowledge in seek, no degree required. F...   \n",
       "2  Basic knowledge in worker, no degree required....   \n",
       "3  Basic knowledge in example, no degree required...   \n",
       "4  Basic knowledge in smile, no degree required. ...   \n",
       "\n",
       "                                    company_profile           location  \\\n",
       "0               Rivera and Sons - Established 2022.       West Jeffrey   \n",
       "1     Davidson, Jones and Gomez - Established 2003.  Lake Meredithberg   \n",
       "2                     Allen Ltd - Established 1998.     Lake Cathybury   \n",
       "3                    Forbes Ltd - Established 1990.  South Matthewstad   \n",
       "4  Jennings, Martin and Sanchez - Established 1975.    East Rhondafurt   \n",
       "\n",
       "     salary_range employment_type   industry        benefits  fraudulent  \n",
       "0  $55016-$100476      Internship         IT      Free meals           1  \n",
       "1   $53438-$93138       Part-Time    Finance  Flexible hours           1  \n",
       "2  $45584-$105229       Part-Time         IT     Free travel           1  \n",
       "3  $66188-$139621       Full-Time  Education     Free travel           1  \n",
       "4  $32183-$115012       Temporary     Retail  Flexible hours           1  "
      ]
     },
     "execution_count": 4,
     "metadata": {},
     "output_type": "execute_result"
    }
   ],
   "source": [
    "df.head()"
   ]
  },
  {
   "cell_type": "code",
   "execution_count": 5,
   "id": "357e0e61-9df9-4072-8e06-d0538da1b196",
   "metadata": {},
   "outputs": [
    {
     "name": "stdout",
     "output_type": "stream",
     "text": [
      "<class 'pandas.core.frame.DataFrame'>\n",
      "RangeIndex: 10000 entries, 0 to 9999\n",
      "Data columns (total 10 columns):\n",
      " #   Column           Non-Null Count  Dtype \n",
      "---  ------           --------------  ----- \n",
      " 0   title            10000 non-null  object\n",
      " 1   description      10000 non-null  object\n",
      " 2   requirements     10000 non-null  object\n",
      " 3   company_profile  10000 non-null  object\n",
      " 4   location         10000 non-null  object\n",
      " 5   salary_range     10000 non-null  object\n",
      " 6   employment_type  10000 non-null  object\n",
      " 7   industry         10000 non-null  object\n",
      " 8   benefits         10000 non-null  object\n",
      " 9   fraudulent       10000 non-null  int64 \n",
      "dtypes: int64(1), object(9)\n",
      "memory usage: 781.4+ KB\n"
     ]
    }
   ],
   "source": [
    "df.info()"
   ]
  },
  {
   "cell_type": "code",
   "execution_count": 6,
   "id": "a3932114-92af-4480-b5ff-e90395423d3f",
   "metadata": {},
   "outputs": [
    {
     "data": {
      "text/html": [
       "<div>\n",
       "<style scoped>\n",
       "    .dataframe tbody tr th:only-of-type {\n",
       "        vertical-align: middle;\n",
       "    }\n",
       "\n",
       "    .dataframe tbody tr th {\n",
       "        vertical-align: top;\n",
       "    }\n",
       "\n",
       "    .dataframe thead th {\n",
       "        text-align: right;\n",
       "    }\n",
       "</style>\n",
       "<table border=\"1\" class=\"dataframe\">\n",
       "  <thead>\n",
       "    <tr style=\"text-align: right;\">\n",
       "      <th></th>\n",
       "      <th>fraudulent</th>\n",
       "    </tr>\n",
       "  </thead>\n",
       "  <tbody>\n",
       "    <tr>\n",
       "      <th>count</th>\n",
       "      <td>10000.0</td>\n",
       "    </tr>\n",
       "    <tr>\n",
       "      <th>mean</th>\n",
       "      <td>1.0</td>\n",
       "    </tr>\n",
       "    <tr>\n",
       "      <th>std</th>\n",
       "      <td>0.0</td>\n",
       "    </tr>\n",
       "    <tr>\n",
       "      <th>min</th>\n",
       "      <td>1.0</td>\n",
       "    </tr>\n",
       "    <tr>\n",
       "      <th>25%</th>\n",
       "      <td>1.0</td>\n",
       "    </tr>\n",
       "    <tr>\n",
       "      <th>50%</th>\n",
       "      <td>1.0</td>\n",
       "    </tr>\n",
       "    <tr>\n",
       "      <th>75%</th>\n",
       "      <td>1.0</td>\n",
       "    </tr>\n",
       "    <tr>\n",
       "      <th>max</th>\n",
       "      <td>1.0</td>\n",
       "    </tr>\n",
       "  </tbody>\n",
       "</table>\n",
       "</div>"
      ],
      "text/plain": [
       "       fraudulent\n",
       "count     10000.0\n",
       "mean          1.0\n",
       "std           0.0\n",
       "min           1.0\n",
       "25%           1.0\n",
       "50%           1.0\n",
       "75%           1.0\n",
       "max           1.0"
      ]
     },
     "execution_count": 6,
     "metadata": {},
     "output_type": "execute_result"
    }
   ],
   "source": [
    "df.describe()\n"
   ]
  },
  {
   "cell_type": "code",
   "execution_count": 7,
   "id": "7aba3056-d3bf-4a2e-a7ad-0b7dc980c7fa",
   "metadata": {},
   "outputs": [
    {
     "data": {
      "text/plain": [
       "title              0\n",
       "description        0\n",
       "requirements       0\n",
       "company_profile    0\n",
       "location           0\n",
       "salary_range       0\n",
       "employment_type    0\n",
       "industry           0\n",
       "benefits           0\n",
       "fraudulent         0\n",
       "dtype: int64"
      ]
     },
     "execution_count": 7,
     "metadata": {},
     "output_type": "execute_result"
    }
   ],
   "source": [
    "df.isnull().sum()"
   ]
  },
  {
   "cell_type": "code",
   "execution_count": 9,
   "id": "f79e064f-0497-4b28-85ef-5cec327f1230",
   "metadata": {},
   "outputs": [
    {
     "data": {
      "text/html": [
       "<div>\n",
       "<style scoped>\n",
       "    .dataframe tbody tr th:only-of-type {\n",
       "        vertical-align: middle;\n",
       "    }\n",
       "\n",
       "    .dataframe tbody tr th {\n",
       "        vertical-align: top;\n",
       "    }\n",
       "\n",
       "    .dataframe thead th {\n",
       "        text-align: right;\n",
       "    }\n",
       "</style>\n",
       "<table border=\"1\" class=\"dataframe\">\n",
       "  <thead>\n",
       "    <tr style=\"text-align: right;\">\n",
       "      <th></th>\n",
       "      <th>title</th>\n",
       "      <th>description</th>\n",
       "      <th>requirements</th>\n",
       "      <th>company_profile</th>\n",
       "      <th>location</th>\n",
       "      <th>salary_range</th>\n",
       "      <th>employment_type</th>\n",
       "      <th>industry</th>\n",
       "      <th>benefits</th>\n",
       "      <th>fraudulent</th>\n",
       "    </tr>\n",
       "  </thead>\n",
       "  <tbody>\n",
       "    <tr>\n",
       "      <th>0</th>\n",
       "      <td>Mental health nurse</td>\n",
       "      <td>Arm drive court sure vote. Earn $5000/week! Im...</td>\n",
       "      <td>Basic knowledge in live, no degree required. F...</td>\n",
       "      <td>Rivera and Sons - Established 2022.</td>\n",
       "      <td>West Jeffrey</td>\n",
       "      <td>$55016-$100476</td>\n",
       "      <td>Internship</td>\n",
       "      <td>IT</td>\n",
       "      <td>Free meals</td>\n",
       "      <td>1</td>\n",
       "    </tr>\n",
       "    <tr>\n",
       "      <th>1</th>\n",
       "      <td>Conference centre manager</td>\n",
       "      <td>Government whom its bed go tax tree black. Ear...</td>\n",
       "      <td>Basic knowledge in seek, no degree required. F...</td>\n",
       "      <td>Davidson, Jones and Gomez - Established 2003.</td>\n",
       "      <td>Lake Meredithberg</td>\n",
       "      <td>$53438-$93138</td>\n",
       "      <td>Part-Time</td>\n",
       "      <td>Finance</td>\n",
       "      <td>Flexible hours</td>\n",
       "      <td>1</td>\n",
       "    </tr>\n",
       "  </tbody>\n",
       "</table>\n",
       "</div>"
      ],
      "text/plain": [
       "                       title  \\\n",
       "0        Mental health nurse   \n",
       "1  Conference centre manager   \n",
       "\n",
       "                                         description  \\\n",
       "0  Arm drive court sure vote. Earn $5000/week! Im...   \n",
       "1  Government whom its bed go tax tree black. Ear...   \n",
       "\n",
       "                                        requirements  \\\n",
       "0  Basic knowledge in live, no degree required. F...   \n",
       "1  Basic knowledge in seek, no degree required. F...   \n",
       "\n",
       "                                 company_profile           location  \\\n",
       "0            Rivera and Sons - Established 2022.       West Jeffrey   \n",
       "1  Davidson, Jones and Gomez - Established 2003.  Lake Meredithberg   \n",
       "\n",
       "     salary_range employment_type industry        benefits  fraudulent  \n",
       "0  $55016-$100476      Internship       IT      Free meals           1  \n",
       "1   $53438-$93138       Part-Time  Finance  Flexible hours           1  "
      ]
     },
     "execution_count": 9,
     "metadata": {},
     "output_type": "execute_result"
    }
   ],
   "source": [
    "df.head(2)"
   ]
  },
  {
   "cell_type": "code",
   "execution_count": 10,
   "id": "64c3421a-ff7f-49f1-9019-fc5ab403cb40",
   "metadata": {},
   "outputs": [
    {
     "name": "stderr",
     "output_type": "stream",
     "text": [
      "C:\\Users\\ASUS\\AppData\\Local\\Temp\\ipykernel_15596\\1761280708.py:4: FutureWarning: \n",
      "\n",
      "Passing `palette` without assigning `hue` is deprecated and will be removed in v0.14.0. Assign the `x` variable to `hue` and set `legend=False` for the same effect.\n",
      "\n",
      "  sns.barplot(x=Fraudent_based_On_industry.index, y=Fraudent_based_On_industry.values, palette='viridis')\n"
     ]
    },
    {
     "data": {
      "image/png": "[encoded data removed]",
      "text/plain": [
       "<Figure size 1500x500 with 1 Axes>"
      ]
     },
     "metadata": {},
     "output_type": "display_data"
    }
   ],
   "source": [
    "Fraudent_based_On_industry = df.groupby('industry')['fraudulent'].mean()\n",
    "\n",
    "plt.figure(figsize=(15, 5))\n",
    "sns.barplot(x=Fraudent_based_On_industry.index, y=Fraudent_based_On_industry.values, palette='viridis')\n",
    "plt.title('Fraudent_based_On_industry')\n",
    "plt.xlabel('Industry')\n",
    "plt.ylabel('No of fraudents')\n",
    "\n",
    "plt.tight_layout()\n",
    "plt.show()"
   ]
  },
  {
   "cell_type": "code",
   "execution_count": 11,
   "id": "04baffab-a461-42cd-9186-4fd9f38421fe",
   "metadata": {},
   "outputs": [
    {
     "data": {
      "image/png": "[encoded data removed]",
      "text/plain": [
       "<Figure size 640x480 with 1 Axes>"
      ]
     },
     "metadata": {},
     "output_type": "display_data"
    }
   ],
   "source": [
    "sns.countplot(data=df, x='industry')\n",
    "plt.title('industry based fraud calls ')\n",
    "plt.xticks(rotation=90)\n",
    "plt.show()"
   ]
  },
  {
   "cell_type": "code",
   "execution_count": 12,
   "id": "d7a2813a-ccb5-427e-b6be-b82514b03647",
   "metadata": {},
   "outputs": [
    {
     "data": {
      "image/png": "[encoded data removed]",
      "text/plain": [
       "<Figure size 640x480 with 1 Axes>"
      ]
     },
     "metadata": {},
     "output_type": "display_data"
    }
   ],
   "source": [
    "sns.countplot(data=df, x='employment_type')\n",
    "plt.title('Count of fraudulent ')\n",
    "plt.show()"
   ]
  },
  {
   "cell_type": "code",
   "execution_count": 15,
   "id": "da30a797-b70d-445b-b052-12abc34d19a0",
   "metadata": {},
   "outputs": [
    {
     "data": {
      "image/png": "[encoded data removed]",
      "text/plain": [
       "<Figure size 640x480 with 1 Axes>"
      ]
     },
     "metadata": {},
     "output_type": "display_data"
    }
   ],
   "source": [
    "sns.countplot(data=df, x='benefits')\n",
    "plt.title('Count of fraudulent ')\n",
    "plt.xticks(rotation=90)\n",
    "plt.show()"
   ]
  },
  {
   "cell_type": "code",
   "execution_count": 16,
   "id": "d9f93cec-1fc7-4967-a7b0-f8e5883e0734",
   "metadata": {},
   "outputs": [
    {
     "data": {
      "text/html": [
       "<div>\n",
       "<style scoped>\n",
       "    .dataframe tbody tr th:only-of-type {\n",
       "        vertical-align: middle;\n",
       "    }\n",
       "\n",
       "    .dataframe tbody tr th {\n",
       "        vertical-align: top;\n",
       "    }\n",
       "\n",
       "    .dataframe thead th {\n",
       "        text-align: right;\n",
       "    }\n",
       "</style>\n",
       "<table border=\"1\" class=\"dataframe\">\n",
       "  <thead>\n",
       "    <tr style=\"text-align: right;\">\n",
       "      <th></th>\n",
       "      <th>title</th>\n",
       "      <th>description</th>\n",
       "      <th>requirements</th>\n",
       "      <th>company_profile</th>\n",
       "      <th>location</th>\n",
       "      <th>salary_range</th>\n",
       "      <th>employment_type</th>\n",
       "      <th>industry</th>\n",
       "      <th>benefits</th>\n",
       "      <th>fraudulent</th>\n",
       "    </tr>\n",
       "  </thead>\n",
       "  <tbody>\n",
       "    <tr>\n",
       "      <th>0</th>\n",
       "      <td>Mental health nurse</td>\n",
       "      <td>Arm drive court sure vote. Earn $5000/week! Im...</td>\n",
       "      <td>Basic knowledge in live, no degree required. F...</td>\n",
       "      <td>Rivera and Sons - Established 2022.</td>\n",
       "      <td>West Jeffrey</td>\n",
       "      <td>$55016-$100476</td>\n",
       "      <td>Internship</td>\n",
       "      <td>IT</td>\n",
       "      <td>Free meals</td>\n",
       "      <td>1</td>\n",
       "    </tr>\n",
       "    <tr>\n",
       "      <th>1</th>\n",
       "      <td>Conference centre manager</td>\n",
       "      <td>Government whom its bed go tax tree black. Ear...</td>\n",
       "      <td>Basic knowledge in seek, no degree required. F...</td>\n",
       "      <td>Davidson, Jones and Gomez - Established 2003.</td>\n",
       "      <td>Lake Meredithberg</td>\n",
       "      <td>$53438-$93138</td>\n",
       "      <td>Part-Time</td>\n",
       "      <td>Finance</td>\n",
       "      <td>Flexible hours</td>\n",
       "      <td>1</td>\n",
       "    </tr>\n",
       "  </tbody>\n",
       "</table>\n",
       "</div>"
      ],
      "text/plain": [
       "                       title  \\\n",
       "0        Mental health nurse   \n",
       "1  Conference centre manager   \n",
       "\n",
       "                                         description  \\\n",
       "0  Arm drive court sure vote. Earn $5000/week! Im...   \n",
       "1  Government whom its bed go tax tree black. Ear...   \n",
       "\n",
       "                                        requirements  \\\n",
       "0  Basic knowledge in live, no degree required. F...   \n",
       "1  Basic knowledge in seek, no degree required. F...   \n",
       "\n",
       "                                 company_profile           location  \\\n",
       "0            Rivera and Sons - Established 2022.       West Jeffrey   \n",
       "1  Davidson, Jones and Gomez - Established 2003.  Lake Meredithberg   \n",
       "\n",
       "     salary_range employment_type industry        benefits  fraudulent  \n",
       "0  $55016-$100476      Internship       IT      Free meals           1  \n",
       "1   $53438-$93138       Part-Time  Finance  Flexible hours           1  "
      ]
     },
     "execution_count": 16,
     "metadata": {},
     "output_type": "execute_result"
    }
   ],
   "source": [
    "df.head(2)"
   ]
  },
  {
   "cell_type": "code",
   "execution_count": 19,
   "id": "7dff8d96-cfe8-4b5e-a6c4-ead79c606e0c",
   "metadata": {},
   "outputs": [],
   "source": [
    "from sklearn.preprocessing import LabelEncoder"
   ]
  },
  {
   "cell_type": "code",
   "execution_count": 24,
   "id": "b9218d63-1969-4e0f-8925-dc8b6530a3f6",
   "metadata": {},
   "outputs": [],
   "source": [
    "from sklearn.preprocessing import LabelEncoder\n",
    "title_le=LabelEncoder() \n",
    "df[\"title\"]=title_le.fit_transform(df[\"title\"])"
   ]
  },
  {
   "cell_type": "code",
   "execution_count": 30,
   "id": "65ccd577-3304-4544-a396-ab4b75469c4c",
   "metadata": {},
   "outputs": [],
   "source": [
    "df= df.drop(columns = ['description'])\n",
    "\n",
    "df= df.drop(columns = ['requirements'])\n",
    "\n",
    "df=df.drop(columns = ['company_profile'])\n",
    "\n",
    "\n"
   ]
  },
  {
   "cell_type": "code",
   "execution_count": 31,
   "id": "dacf2632-b18e-4600-848a-d95ac719cb00",
   "metadata": {},
   "outputs": [
    {
     "data": {
      "text/html": [
       "<div>\n",
       "<style scoped>\n",
       "    .dataframe tbody tr th:only-of-type {\n",
       "        vertical-align: middle;\n",
       "    }\n",
       "\n",
       "    .dataframe tbody tr th {\n",
       "        vertical-align: top;\n",
       "    }\n",
       "\n",
       "    .dataframe thead th {\n",
       "        text-align: right;\n",
       "    }\n",
       "</style>\n",
       "<table border=\"1\" class=\"dataframe\">\n",
       "  <thead>\n",
       "    <tr style=\"text-align: right;\">\n",
       "      <th></th>\n",
       "      <th>title</th>\n",
       "      <th>location</th>\n",
       "      <th>salary_range</th>\n",
       "      <th>employment_type</th>\n",
       "      <th>industry</th>\n",
       "      <th>benefits</th>\n",
       "      <th>fraudulent</th>\n",
       "    </tr>\n",
       "  </thead>\n",
       "  <tbody>\n",
       "    <tr>\n",
       "      <th>0</th>\n",
       "      <td>376</td>\n",
       "      <td>West Jeffrey</td>\n",
       "      <td>$55016-$100476</td>\n",
       "      <td>Internship</td>\n",
       "      <td>IT</td>\n",
       "      <td>Free meals</td>\n",
       "      <td>1</td>\n",
       "    </tr>\n",
       "  </tbody>\n",
       "</table>\n",
       "</div>"
      ],
      "text/plain": [
       "   title      location    salary_range employment_type industry    benefits  \\\n",
       "0    376  West Jeffrey  $55016-$100476      Internship       IT  Free meals   \n",
       "\n",
       "   fraudulent  \n",
       "0           1  "
      ]
     },
     "execution_count": 31,
     "metadata": {},
     "output_type": "execute_result"
    }
   ],
   "source": [
    "df.head(1)"
   ]
  },
  {
   "cell_type": "code",
   "execution_count": 32,
   "id": "bcb22504-5b50-4682-8555-cf839dc436d3",
   "metadata": {},
   "outputs": [],
   "source": [
    "from sklearn.preprocessing import LabelEncoder"
   ]
  },
  {
   "cell_type": "code",
   "execution_count": 35,
   "id": "f5177ea9-71cf-4226-8c0c-461d8ca00025",
   "metadata": {},
   "outputs": [],
   "source": [
    "location_le= LabelEncoder()\n",
    "df['location']=location_le.fit_transform(df[\"location\"])"
   ]
  },
  {
   "cell_type": "code",
   "execution_count": 36,
   "id": "1adc7e94-4b94-4264-bd10-602e606d3e75",
   "metadata": {},
   "outputs": [
    {
     "data": {
      "text/html": [
       "<div>\n",
       "<style scoped>\n",
       "    .dataframe tbody tr th:only-of-type {\n",
       "        vertical-align: middle;\n",
       "    }\n",
       "\n",
       "    .dataframe tbody tr th {\n",
       "        vertical-align: top;\n",
       "    }\n",
       "\n",
       "    .dataframe thead th {\n",
       "        text-align: right;\n",
       "    }\n",
       "</style>\n",
       "<table border=\"1\" class=\"dataframe\">\n",
       "  <thead>\n",
       "    <tr style=\"text-align: right;\">\n",
       "      <th></th>\n",
       "      <th>title</th>\n",
       "      <th>location</th>\n",
       "      <th>salary_range</th>\n",
       "      <th>employment_type</th>\n",
       "      <th>industry</th>\n",
       "      <th>benefits</th>\n",
       "      <th>fraudulent</th>\n",
       "    </tr>\n",
       "  </thead>\n",
       "  <tbody>\n",
       "    <tr>\n",
       "      <th>0</th>\n",
       "      <td>376</td>\n",
       "      <td>93</td>\n",
       "      <td>$55016-$100476</td>\n",
       "      <td>Internship</td>\n",
       "      <td>IT</td>\n",
       "      <td>Free meals</td>\n",
       "      <td>1</td>\n",
       "    </tr>\n",
       "    <tr>\n",
       "      <th>1</th>\n",
       "      <td>130</td>\n",
       "      <td>43</td>\n",
       "      <td>$53438-$93138</td>\n",
       "      <td>Part-Time</td>\n",
       "      <td>Finance</td>\n",
       "      <td>Flexible hours</td>\n",
       "      <td>1</td>\n",
       "    </tr>\n",
       "    <tr>\n",
       "      <th>2</th>\n",
       "      <td>210</td>\n",
       "      <td>39</td>\n",
       "      <td>$45584-$105229</td>\n",
       "      <td>Part-Time</td>\n",
       "      <td>IT</td>\n",
       "      <td>Free travel</td>\n",
       "      <td>1</td>\n",
       "    </tr>\n",
       "    <tr>\n",
       "      <th>3</th>\n",
       "      <td>260</td>\n",
       "      <td>80</td>\n",
       "      <td>$66188-$139621</td>\n",
       "      <td>Full-Time</td>\n",
       "      <td>Education</td>\n",
       "      <td>Free travel</td>\n",
       "      <td>1</td>\n",
       "    </tr>\n",
       "    <tr>\n",
       "      <th>4</th>\n",
       "      <td>461</td>\n",
       "      <td>23</td>\n",
       "      <td>$32183-$115012</td>\n",
       "      <td>Temporary</td>\n",
       "      <td>Retail</td>\n",
       "      <td>Flexible hours</td>\n",
       "      <td>1</td>\n",
       "    </tr>\n",
       "  </tbody>\n",
       "</table>\n",
       "</div>"
      ],
      "text/plain": [
       "   title  location    salary_range employment_type   industry        benefits  \\\n",
       "0    376        93  $55016-$100476      Internship         IT      Free meals   \n",
       "1    130        43   $53438-$93138       Part-Time    Finance  Flexible hours   \n",
       "2    210        39  $45584-$105229       Part-Time         IT     Free travel   \n",
       "3    260        80  $66188-$139621       Full-Time  Education     Free travel   \n",
       "4    461        23  $32183-$115012       Temporary     Retail  Flexible hours   \n",
       "\n",
       "   fraudulent  \n",
       "0           1  \n",
       "1           1  \n",
       "2           1  \n",
       "3           1  \n",
       "4           1  "
      ]
     },
     "execution_count": 36,
     "metadata": {},
     "output_type": "execute_result"
    }
   ],
   "source": [
    "df.head()"
   ]
  },
  {
   "cell_type": "code",
   "execution_count": 38,
   "id": "4af90b7d-39d0-4714-aaf2-59f4d1ff22e6",
   "metadata": {},
   "outputs": [],
   "source": [
    "employment_type_le= LabelEncoder()\n",
    "df['employment_type']=employment_type_le.fit_transform(df[\"employment_type\"])\n"
   ]
  },
  {
   "cell_type": "code",
   "execution_count": 39,
   "id": "fbb58fc0-746a-4c20-90b0-f0d443c4d533",
   "metadata": {},
   "outputs": [],
   "source": [
    "industry_le= LabelEncoder()\n",
    "df['industry']=employment_type_le.fit_transform(df[\"industry\"])"
   ]
  },
  {
   "cell_type": "code",
   "execution_count": 40,
   "id": "cace2ea4-0a1c-4a26-9d13-32eb2125257a",
   "metadata": {},
   "outputs": [],
   "source": [
    "benefits_le= LabelEncoder()\n",
    "df['benefits']=employment_type_le.fit_transform(df[\"benefits\"])"
   ]
  },
  {
   "cell_type": "code",
   "execution_count": 41,
   "id": "090c9bfc-8db6-4449-a896-add9204ea394",
   "metadata": {},
   "outputs": [
    {
     "data": {
      "text/html": [
       "<div>\n",
       "<style scoped>\n",
       "    .dataframe tbody tr th:only-of-type {\n",
       "        vertical-align: middle;\n",
       "    }\n",
       "\n",
       "    .dataframe tbody tr th {\n",
       "        vertical-align: top;\n",
       "    }\n",
       "\n",
       "    .dataframe thead th {\n",
       "        text-align: right;\n",
       "    }\n",
       "</style>\n",
       "<table border=\"1\" class=\"dataframe\">\n",
       "  <thead>\n",
       "    <tr style=\"text-align: right;\">\n",
       "      <th></th>\n",
       "      <th>title</th>\n",
       "      <th>location</th>\n",
       "      <th>salary_range</th>\n",
       "      <th>employment_type</th>\n",
       "      <th>industry</th>\n",
       "      <th>benefits</th>\n",
       "      <th>fraudulent</th>\n",
       "    </tr>\n",
       "  </thead>\n",
       "  <tbody>\n",
       "    <tr>\n",
       "      <th>0</th>\n",
       "      <td>376</td>\n",
       "      <td>93</td>\n",
       "      <td>$55016-$100476</td>\n",
       "      <td>2</td>\n",
       "      <td>4</td>\n",
       "      <td>1</td>\n",
       "      <td>1</td>\n",
       "    </tr>\n",
       "    <tr>\n",
       "      <th>1</th>\n",
       "      <td>130</td>\n",
       "      <td>43</td>\n",
       "      <td>$53438-$93138</td>\n",
       "      <td>3</td>\n",
       "      <td>2</td>\n",
       "      <td>0</td>\n",
       "      <td>1</td>\n",
       "    </tr>\n",
       "    <tr>\n",
       "      <th>2</th>\n",
       "      <td>210</td>\n",
       "      <td>39</td>\n",
       "      <td>$45584-$105229</td>\n",
       "      <td>3</td>\n",
       "      <td>4</td>\n",
       "      <td>2</td>\n",
       "      <td>1</td>\n",
       "    </tr>\n",
       "    <tr>\n",
       "      <th>3</th>\n",
       "      <td>260</td>\n",
       "      <td>80</td>\n",
       "      <td>$66188-$139621</td>\n",
       "      <td>1</td>\n",
       "      <td>1</td>\n",
       "      <td>2</td>\n",
       "      <td>1</td>\n",
       "    </tr>\n",
       "    <tr>\n",
       "      <th>4</th>\n",
       "      <td>461</td>\n",
       "      <td>23</td>\n",
       "      <td>$32183-$115012</td>\n",
       "      <td>4</td>\n",
       "      <td>6</td>\n",
       "      <td>0</td>\n",
       "      <td>1</td>\n",
       "    </tr>\n",
       "  </tbody>\n",
       "</table>\n",
       "</div>"
      ],
      "text/plain": [
       "   title  location    salary_range  employment_type  industry  benefits  \\\n",
       "0    376        93  $55016-$100476                2         4         1   \n",
       "1    130        43   $53438-$93138                3         2         0   \n",
       "2    210        39  $45584-$105229                3         4         2   \n",
       "3    260        80  $66188-$139621                1         1         2   \n",
       "4    461        23  $32183-$115012                4         6         0   \n",
       "\n",
       "   fraudulent  \n",
       "0           1  \n",
       "1           1  \n",
       "2           1  \n",
       "3           1  \n",
       "4           1  "
      ]
     },
     "execution_count": 41,
     "metadata": {},
     "output_type": "execute_result"
    }
   ],
   "source": [
    "df.head()"
   ]
  },
  {
   "cell_type": "code",
   "execution_count": 43,
   "id": "f71dd4b0-5e92-4074-b44a-ab5936a2190b",
   "metadata": {},
   "outputs": [
    {
     "data": {
      "text/html": [
       "<div>\n",
       "<style scoped>\n",
       "    .dataframe tbody tr th:only-of-type {\n",
       "        vertical-align: middle;\n",
       "    }\n",
       "\n",
       "    .dataframe tbody tr th {\n",
       "        vertical-align: top;\n",
       "    }\n",
       "\n",
       "    .dataframe thead th {\n",
       "        text-align: right;\n",
       "    }\n",
       "</style>\n",
       "<table border=\"1\" class=\"dataframe\">\n",
       "  <thead>\n",
       "    <tr style=\"text-align: right;\">\n",
       "      <th></th>\n",
       "      <th>title</th>\n",
       "      <th>location</th>\n",
       "      <th>employment_type</th>\n",
       "      <th>industry</th>\n",
       "      <th>benefits</th>\n",
       "      <th>fraudulent</th>\n",
       "    </tr>\n",
       "  </thead>\n",
       "  <tbody>\n",
       "    <tr>\n",
       "      <th>0</th>\n",
       "      <td>376</td>\n",
       "      <td>93</td>\n",
       "      <td>2</td>\n",
       "      <td>4</td>\n",
       "      <td>1</td>\n",
       "      <td>1</td>\n",
       "    </tr>\n",
       "    <tr>\n",
       "      <th>1</th>\n",
       "      <td>130</td>\n",
       "      <td>43</td>\n",
       "      <td>3</td>\n",
       "      <td>2</td>\n",
       "      <td>0</td>\n",
       "      <td>1</td>\n",
       "    </tr>\n",
       "    <tr>\n",
       "      <th>2</th>\n",
       "      <td>210</td>\n",
       "      <td>39</td>\n",
       "      <td>3</td>\n",
       "      <td>4</td>\n",
       "      <td>2</td>\n",
       "      <td>1</td>\n",
       "    </tr>\n",
       "    <tr>\n",
       "      <th>3</th>\n",
       "      <td>260</td>\n",
       "      <td>80</td>\n",
       "      <td>1</td>\n",
       "      <td>1</td>\n",
       "      <td>2</td>\n",
       "      <td>1</td>\n",
       "    </tr>\n",
       "    <tr>\n",
       "      <th>4</th>\n",
       "      <td>461</td>\n",
       "      <td>23</td>\n",
       "      <td>4</td>\n",
       "      <td>6</td>\n",
       "      <td>0</td>\n",
       "      <td>1</td>\n",
       "    </tr>\n",
       "    <tr>\n",
       "      <th>...</th>\n",
       "      <td>...</td>\n",
       "      <td>...</td>\n",
       "      <td>...</td>\n",
       "      <td>...</td>\n",
       "      <td>...</td>\n",
       "      <td>...</td>\n",
       "    </tr>\n",
       "    <tr>\n",
       "      <th>9995</th>\n",
       "      <td>159</td>\n",
       "      <td>65</td>\n",
       "      <td>1</td>\n",
       "      <td>6</td>\n",
       "      <td>1</td>\n",
       "      <td>1</td>\n",
       "    </tr>\n",
       "    <tr>\n",
       "      <th>9996</th>\n",
       "      <td>611</td>\n",
       "      <td>52</td>\n",
       "      <td>3</td>\n",
       "      <td>4</td>\n",
       "      <td>4</td>\n",
       "      <td>1</td>\n",
       "    </tr>\n",
       "    <tr>\n",
       "      <th>9997</th>\n",
       "      <td>612</td>\n",
       "      <td>11</td>\n",
       "      <td>1</td>\n",
       "      <td>1</td>\n",
       "      <td>3</td>\n",
       "      <td>1</td>\n",
       "    </tr>\n",
       "    <tr>\n",
       "      <th>9998</th>\n",
       "      <td>114</td>\n",
       "      <td>43</td>\n",
       "      <td>0</td>\n",
       "      <td>2</td>\n",
       "      <td>0</td>\n",
       "      <td>1</td>\n",
       "    </tr>\n",
       "    <tr>\n",
       "      <th>9999</th>\n",
       "      <td>301</td>\n",
       "      <td>76</td>\n",
       "      <td>4</td>\n",
       "      <td>5</td>\n",
       "      <td>1</td>\n",
       "      <td>1</td>\n",
       "    </tr>\n",
       "  </tbody>\n",
       "</table>\n",
       "<p>10000 rows × 6 columns</p>\n",
       "</div>"
      ],
      "text/plain": [
       "      title  location  employment_type  industry  benefits  fraudulent\n",
       "0       376        93                2         4         1           1\n",
       "1       130        43                3         2         0           1\n",
       "2       210        39                3         4         2           1\n",
       "3       260        80                1         1         2           1\n",
       "4       461        23                4         6         0           1\n",
       "...     ...       ...              ...       ...       ...         ...\n",
       "9995    159        65                1         6         1           1\n",
       "9996    611        52                3         4         4           1\n",
       "9997    612        11                1         1         3           1\n",
       "9998    114        43                0         2         0           1\n",
       "9999    301        76                4         5         1           1\n",
       "\n",
       "[10000 rows x 6 columns]"
      ]
     },
     "execution_count": 43,
     "metadata": {},
     "output_type": "execute_result"
    }
   ],
   "source": [
    "df.drop(columns =['salary_range'])"
   ]
  },
  {
   "cell_type": "code",
   "execution_count": 45,
   "id": "a38306db-006b-4485-8da0-97a1c96a06cd",
   "metadata": {},
   "outputs": [],
   "source": [
    "from sklearn . model_selection import train_test_split"
   ]
  },
  {
   "cell_type": "code",
   "execution_count": 46,
   "id": "aa32c0fd-285b-41c1-b844-df0518fbab05",
   "metadata": {},
   "outputs": [
    {
     "data": {
      "text/plain": [
       "title              0\n",
       "location           0\n",
       "salary_range       0\n",
       "employment_type    0\n",
       "industry           0\n",
       "benefits           0\n",
       "fraudulent         0\n",
       "dtype: int64"
      ]
     },
     "execution_count": 46,
     "metadata": {},
     "output_type": "execute_result"
    }
   ],
   "source": [
    "df.isnull().sum()"
   ]
  },
  {
   "cell_type": "code",
   "execution_count": 60,
   "id": "1cf9708a-c2c2-4877-aa75-296c87428dc3",
   "metadata": {},
   "outputs": [
    {
     "data": {
      "text/plain": [
       "title               int32\n",
       "location            int32\n",
       "salary_range       object\n",
       "employment_type     int64\n",
       "industry            int32\n",
       "benefits            int32\n",
       "fraudulent          int64\n",
       "dtype: object"
      ]
     },
     "execution_count": 60,
     "metadata": {},
     "output_type": "execute_result"
    }
   ],
   "source": [
    "df.dtypes"
   ]
  },
  {
   "cell_type": "code",
   "execution_count": 62,
   "id": "c6781cb3-13ab-45b6-b55f-2b96382ef50c",
   "metadata": {},
   "outputs": [],
   "source": [
    "df=df.drop(columns=['salary_range'])"
   ]
  },
  {
   "cell_type": "code",
   "execution_count": 63,
   "id": "8376b2b8-182c-459d-abf2-7ac8b46b5862",
   "metadata": {},
   "outputs": [
    {
     "data": {
      "text/html": [
       "<div>\n",
       "<style scoped>\n",
       "    .dataframe tbody tr th:only-of-type {\n",
       "        vertical-align: middle;\n",
       "    }\n",
       "\n",
       "    .dataframe tbody tr th {\n",
       "        vertical-align: top;\n",
       "    }\n",
       "\n",
       "    .dataframe thead th {\n",
       "        text-align: right;\n",
       "    }\n",
       "</style>\n",
       "<table border=\"1\" class=\"dataframe\">\n",
       "  <thead>\n",
       "    <tr style=\"text-align: right;\">\n",
       "      <th></th>\n",
       "      <th>title</th>\n",
       "      <th>location</th>\n",
       "      <th>employment_type</th>\n",
       "      <th>industry</th>\n",
       "      <th>benefits</th>\n",
       "      <th>fraudulent</th>\n",
       "    </tr>\n",
       "  </thead>\n",
       "  <tbody>\n",
       "    <tr>\n",
       "      <th>0</th>\n",
       "      <td>376</td>\n",
       "      <td>93</td>\n",
       "      <td>2</td>\n",
       "      <td>4</td>\n",
       "      <td>1</td>\n",
       "      <td>1</td>\n",
       "    </tr>\n",
       "    <tr>\n",
       "      <th>1</th>\n",
       "      <td>130</td>\n",
       "      <td>43</td>\n",
       "      <td>3</td>\n",
       "      <td>2</td>\n",
       "      <td>0</td>\n",
       "      <td>1</td>\n",
       "    </tr>\n",
       "    <tr>\n",
       "      <th>2</th>\n",
       "      <td>210</td>\n",
       "      <td>39</td>\n",
       "      <td>3</td>\n",
       "      <td>4</td>\n",
       "      <td>2</td>\n",
       "      <td>1</td>\n",
       "    </tr>\n",
       "    <tr>\n",
       "      <th>3</th>\n",
       "      <td>260</td>\n",
       "      <td>80</td>\n",
       "      <td>1</td>\n",
       "      <td>1</td>\n",
       "      <td>2</td>\n",
       "      <td>1</td>\n",
       "    </tr>\n",
       "    <tr>\n",
       "      <th>4</th>\n",
       "      <td>461</td>\n",
       "      <td>23</td>\n",
       "      <td>4</td>\n",
       "      <td>6</td>\n",
       "      <td>0</td>\n",
       "      <td>1</td>\n",
       "    </tr>\n",
       "  </tbody>\n",
       "</table>\n",
       "</div>"
      ],
      "text/plain": [
       "   title  location  employment_type  industry  benefits  fraudulent\n",
       "0    376        93                2         4         1           1\n",
       "1    130        43                3         2         0           1\n",
       "2    210        39                3         4         2           1\n",
       "3    260        80                1         1         2           1\n",
       "4    461        23                4         6         0           1"
      ]
     },
     "execution_count": 63,
     "metadata": {},
     "output_type": "execute_result"
    }
   ],
   "source": [
    "df.head()"
   ]
  },
  {
   "cell_type": "code",
   "execution_count": 64,
   "id": "69e3e893-886f-4c18-be6c-9f52156552af",
   "metadata": {},
   "outputs": [],
   "source": [
    "X = df.iloc[:, :-1].values\n",
    "y = df.iloc[:, -1].values"
   ]
  },
  {
   "cell_type": "code",
   "execution_count": 65,
   "id": "9161ba85-5cf0-43ea-84e5-9cb17f6fbe02",
   "metadata": {},
   "outputs": [
    {
     "data": {
      "text/plain": [
       "array([1, 1, 1, ..., 1, 1, 1], dtype=int64)"
      ]
     },
     "execution_count": 65,
     "metadata": {},
     "output_type": "execute_result"
    }
   ],
   "source": [
    "y\n"
   ]
  },
  {
   "cell_type": "code",
   "execution_count": 66,
   "id": "e0577cbd-a6a5-4266-aa97-ac096bca5609",
   "metadata": {},
   "outputs": [],
   "source": [
    "x_train , x_test , y_train , y_test = train_test_split (x,y , random_state=42 , test_size = 0.5)"
   ]
  },
  {
   "cell_type": "code",
   "execution_count": 67,
   "id": "248eb256-60a4-4455-bc82-0b867cb1e2f9",
   "metadata": {},
   "outputs": [
    {
     "name": "stdout",
     "output_type": "stream",
     "text": [
      "(5000, 6)\n",
      "(5000,)\n",
      "(5000, 6)\n",
      "(5000,)\n"
     ]
    }
   ],
   "source": [
    "print(x_train.shape)\n",
    "print(y_train.shape)\n",
    "print(x_test.shape)\n",
    "print(y_test.shape)"
   ]
  },
  {
   "cell_type": "code",
   "execution_count": 68,
   "id": "40694cc0-effa-42e5-98c7-b93972097add",
   "metadata": {},
   "outputs": [],
   "source": [
    "from sklearn.linear_model import LinearRegression, Lasso, Ridge, ElasticNet\n",
    "from sklearn.tree import DecisionTreeRegressor\n",
    "from sklearn.svm import SVR\n",
    "from sklearn.neighbors import KNeighborsRegressor\n",
    "from sklearn.ensemble import RandomForestRegressor"
   ]
  },
  {
   "cell_type": "code",
   "execution_count": 69,
   "id": "2e3bafc0-90dd-4f65-a432-bbbf2c4a760f",
   "metadata": {},
   "outputs": [],
   "source": [
    "dt=DecisionTreeRegressor()\n"
   ]
  },
  {
   "cell_type": "code",
   "execution_count": 80,
   "id": "4537acc9-fc0e-4176-9c6b-0a37df186065",
   "metadata": {},
   "outputs": [
    {
     "data": {
      "text/html": [
       "<div>\n",
       "<style scoped>\n",
       "    .dataframe tbody tr th:only-of-type {\n",
       "        vertical-align: middle;\n",
       "    }\n",
       "\n",
       "    .dataframe tbody tr th {\n",
       "        vertical-align: top;\n",
       "    }\n",
       "\n",
       "    .dataframe thead th {\n",
       "        text-align: right;\n",
       "    }\n",
       "</style>\n",
       "<table border=\"1\" class=\"dataframe\">\n",
       "  <thead>\n",
       "    <tr style=\"text-align: right;\">\n",
       "      <th></th>\n",
       "      <th>title</th>\n",
       "      <th>location</th>\n",
       "      <th>employment_type</th>\n",
       "      <th>industry</th>\n",
       "      <th>benefits</th>\n",
       "      <th>fraudulent</th>\n",
       "    </tr>\n",
       "  </thead>\n",
       "  <tbody>\n",
       "    <tr>\n",
       "      <th>0</th>\n",
       "      <td>376</td>\n",
       "      <td>93</td>\n",
       "      <td>2</td>\n",
       "      <td>4</td>\n",
       "      <td>1</td>\n",
       "      <td>1</td>\n",
       "    </tr>\n",
       "    <tr>\n",
       "      <th>1</th>\n",
       "      <td>130</td>\n",
       "      <td>43</td>\n",
       "      <td>3</td>\n",
       "      <td>2</td>\n",
       "      <td>0</td>\n",
       "      <td>1</td>\n",
       "    </tr>\n",
       "    <tr>\n",
       "      <th>2</th>\n",
       "      <td>210</td>\n",
       "      <td>39</td>\n",
       "      <td>3</td>\n",
       "      <td>4</td>\n",
       "      <td>2</td>\n",
       "      <td>1</td>\n",
       "    </tr>\n",
       "    <tr>\n",
       "      <th>3</th>\n",
       "      <td>260</td>\n",
       "      <td>80</td>\n",
       "      <td>1</td>\n",
       "      <td>1</td>\n",
       "      <td>2</td>\n",
       "      <td>1</td>\n",
       "    </tr>\n",
       "    <tr>\n",
       "      <th>4</th>\n",
       "      <td>461</td>\n",
       "      <td>23</td>\n",
       "      <td>4</td>\n",
       "      <td>6</td>\n",
       "      <td>0</td>\n",
       "      <td>1</td>\n",
       "    </tr>\n",
       "  </tbody>\n",
       "</table>\n",
       "</div>"
      ],
      "text/plain": [
       "   title  location  employment_type  industry  benefits  fraudulent\n",
       "0    376        93                2         4         1           1\n",
       "1    130        43                3         2         0           1\n",
       "2    210        39                3         4         2           1\n",
       "3    260        80                1         1         2           1\n",
       "4    461        23                4         6         0           1"
      ]
     },
     "execution_count": 80,
     "metadata": {},
     "output_type": "execute_result"
    }
   ],
   "source": [
    "df.head()"
   ]
  },
  {
   "cell_type": "code",
   "execution_count": 81,
   "id": "4d8e3094-caba-463b-8a33-dca1212a18d6",
   "metadata": {},
   "outputs": [],
   "source": [
    "u=df.iloc[:,:-1].values\n",
    "v=df.iloc[:, -1].values"
   ]
  },
  {
   "cell_type": "code",
   "execution_count": 86,
   "id": "bff594bc-4c39-4da4-9b32-4a254b840fda",
   "metadata": {},
   "outputs": [],
   "source": [
    "u_train , u_test , v_train , v_test = train_test_split (u,v , random_state=42 , test_size = 0.5)"
   ]
  },
  {
   "cell_type": "code",
   "execution_count": 87,
   "id": "749eab0a-a6e6-43a8-913c-81e5962ac9d8",
   "metadata": {},
   "outputs": [
    {
     "name": "stdout",
     "output_type": "stream",
     "text": [
      "(5000, 5)\n",
      "(5000,)\n",
      "(5000, 5)\n",
      "(5000,)\n"
     ]
    }
   ],
   "source": [
    "print(u_train.shape)\n",
    "print(v_train.shape)\n",
    "print(u_test.shape)\n",
    "print(v_test.shape)"
   ]
  },
  {
   "cell_type": "code",
   "execution_count": 88,
   "id": "4395e6bc-76f2-46e2-add6-bb910c72f59d",
   "metadata": {},
   "outputs": [
    {
     "data": {
      "text/plain": [
       "(100.0, 100.0)"
      ]
     },
     "execution_count": 88,
     "metadata": {},
     "output_type": "execute_result"
    }
   ],
   "source": [
    "dt=DecisionTreeRegressor()\n",
    "dt.fit (u_train , v_train)\n",
    "dt.score(u_train , v_train)*100,dt.score(u_test,v_test)*100"
   ]
  },
  {
   "cell_type": "code",
   "execution_count": 89,
   "id": "90ae2da7-30f6-4f6d-ac52-f8115c7789d8",
   "metadata": {},
   "outputs": [
    {
     "name": "stderr",
     "output_type": "stream",
     "text": [
      "C:\\ProgramData\\anaconda3\\Lib\\site-packages\\sklearn\\linear_model\\_coordinate_descent.py:678: ConvergenceWarning: Objective did not converge. You might want to increase the number of iterations, check the scale of the features or consider increasing regularisation. Duality gap: 0.000e+00, tolerance: 0.000e+00\n",
      "  model = cd_fast.enet_coordinate_descent(\n"
     ]
    },
    {
     "data": {
      "text/plain": [
       "(100.0, 100.0)"
      ]
     },
     "execution_count": 89,
     "metadata": {},
     "output_type": "execute_result"
    }
   ],
   "source": [
    "lasso=Lasso(alpha=4)\n",
    "lasso.fit(u_train,v_train)\n",
    "lasso.score(u_train , v_train)*100 , lasso.score(u_test,v_test)*100"
   ]
  },
  {
   "cell_type": "code",
   "execution_count": null,
   "id": "6211667a-9274-4d13-aa98-2a8ae801b6c4",
   "metadata": {},
   "outputs": [],
   "source": []
  }
 ],
 "metadata": {
  "kernelspec": {
   "display_name": "Python 3 (ipykernel)",
   "language": "python",
   "name": "python3"
  },
  "language_info": {
   "codemirror_mode": {
    "name": "ipython",
    "version": 3
   },
   "file_extension": ".py",
   "mimetype": "text/x-python",
   "name": "python",
   "nbconvert_exporter": "python",
   "pygments_lexer": "ipython3",
   "version": "3.12.4"
  }
 },
 "nbformat": 4,
 "nbformat_minor": 5
}
